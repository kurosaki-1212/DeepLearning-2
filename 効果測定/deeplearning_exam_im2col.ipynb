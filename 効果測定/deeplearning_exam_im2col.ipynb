{
  "cells": [
    {
      "cell_type": "code",
      "execution_count": null,
      "metadata": {
        "id": "h1wdbt2lUJ4K"
      },
      "outputs": [],
      "source": [
        "import numpy as np\n",
        "# images:入力画像データ\n",
        "# flt_h:フィルタの高さ\n",
        "# flt_w:フィルタの幅\n",
        "# out_h:出力データの高さ\n",
        "# out_w:出力データの幅\n",
        "# stride:ストライド\n",
        "# pad:パディング\n",
        "def im2col(images, flt_h, flt_w, out_h, out_w, stride, pad):\n",
        "   \n",
        "    n_bt, n_ch, img_h, img_w = images.shape\n",
        "    \n",
        "    img_pad = np.pad(images, [(0,0), (0,0), (pad, pad), (pad, pad)], \"constant\")\n",
        "    cols = np.zeros((n_bt, n_ch, flt_h, flt_w, out_h, out_w))\n",
        "\n",
        "    for h in range(flt_h):\n",
        "        h_lim = h + stride*out_h\n",
        "        for w in range(flt_w):\n",
        "            w_lim = w + stride*out_w\n",
        "            cols[:, :, h, w, :, :] = img_pad[:, :, h:h_lim:stride, w:w_lim:stride]\n",
        "\n",
        "    cols = cols.transpose(1, 2, 3, 0, 4, 5).reshape(n_ch*flt_h*flt_w, n_bt*out_h*out_w)\n",
        "    return cols"
      ]
    },
    {
      "cell_type": "code",
      "execution_count": null,
      "metadata": {
        "colab": {
          "base_uri": "https://localhost:8080/"
        },
        "id": "Tehh2T1KURFO",
        "outputId": "903daf34-072e-485b-f8a2-ba540675d64d"
      },
      "outputs": [
        {
          "output_type": "stream",
          "name": "stdout",
          "text": [
            "[[ 1.  2.  3.  6.  7.  8. 11. 12. 13.]\n",
            " [ 2.  3.  4.  7.  8.  9. 12. 13. 14.]\n",
            " [ 3.  4.  5.  8.  9. 10. 13. 14. 15.]\n",
            " [ 6.  7.  8. 11. 12. 13. 16. 17. 18.]\n",
            " [ 7.  8.  9. 12. 13. 14. 17. 18. 19.]\n",
            " [ 8.  9. 10. 13. 14. 15. 18. 19. 20.]\n",
            " [11. 12. 13. 16. 17. 18. 21. 22. 23.]\n",
            " [12. 13. 14. 17. 18. 19. 22. 23. 24.]\n",
            " [13. 14. 15. 18. 19. 20. 23. 24. 25.]]\n"
          ]
        }
      ],
      "source": [
        "# im2colの引数の画像データ\n",
        "img = np.array([[[[1,2,3,4,5],\n",
        "                [6,7,8,9,10],\n",
        "                [11,12,13,14,15],\n",
        "                [16,17,18,19,20],\n",
        "                [21,22,23,24,25]     \n",
        "                ]]])\n",
        "\n",
        "result = im2col(img,3,3,3,3,1,0)\n",
        "print(result)"
      ]
    },
    {
      "cell_type": "code",
      "execution_count": null,
      "metadata": {
        "id": "byQJMXYed9NN"
      },
      "outputs": [],
      "source": [
        "# im2colの引数の画像データ\n",
        "img = np.array([[[[1,3,5,7],\n",
        "                [2,4,6,8],\n",
        "                [1,2,3,4],\n",
        "                [5,6,7,8]\n",
        "                ]]])"
      ]
    },
    {
      "cell_type": "code",
      "source": [
        "result = im2col(img,2,2,3,3,1,0)\n",
        "print(result)"
      ],
      "metadata": {
        "colab": {
          "base_uri": "https://localhost:8080/"
        },
        "id": "fWEw09G1G1Go",
        "outputId": "01c1534e-2078-4391-9c2b-b3d700b96a90"
      },
      "execution_count": null,
      "outputs": [
        {
          "output_type": "stream",
          "name": "stdout",
          "text": [
            "[[1. 3. 5. 2. 4. 6. 1. 2. 3.]\n",
            " [3. 5. 7. 4. 6. 8. 2. 3. 4.]\n",
            " [2. 4. 6. 1. 2. 3. 5. 6. 7.]\n",
            " [4. 6. 8. 2. 3. 4. 6. 7. 8.]]\n"
          ]
        }
      ]
    }
  ],
  "metadata": {
    "colab": {
      "collapsed_sections": [],
      "name": "deeplearning_exam_im2col.ipynb",
      "provenance": []
    },
    "kernelspec": {
      "display_name": "Python 3",
      "name": "python3"
    },
    "language_info": {
      "name": "python"
    }
  },
  "nbformat": 4,
  "nbformat_minor": 0
}