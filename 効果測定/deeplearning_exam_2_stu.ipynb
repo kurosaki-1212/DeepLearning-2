{
  "cells": [
    {
      "cell_type": "markdown",
      "metadata": {
        "id": "D0sDoR_vgRi-"
      },
      "source": [
        "# ** ディープラーニング効果測定 問題2**"
      ]
    },
    {
      "cell_type": "code",
      "execution_count": null,
      "metadata": {
        "colab": {
          "base_uri": "https://localhost:8080/"
        },
        "id": "cpcOcn2Mf74R",
        "outputId": "96ea95ba-5aa7-4015-a7f0-b368d02bfc9b"
      },
      "outputs": [
        {
          "output_type": "stream",
          "name": "stdout",
          "text": [
            "ステップ関数に入力したデータ： [ 0.74024827  0.16455386 -0.44232212 -0.62817754 -0.17779974]\n",
            "ステップ関数からの出力データ： [1 1 0 0 0]\n",
            "出力データの総和： 2\n"
          ]
        },
        {
          "output_type": "stream",
          "name": "stderr",
          "text": [
            "/usr/local/lib/python3.7/dist-packages/ipykernel_launcher.py:17: DeprecationWarning: `np.int` is a deprecated alias for the builtin `int`. To silence this warning, use `int` by itself. Doing this will not modify any behavior and is safe. When replacing `np.int`, you may wish to use e.g. `np.int64` or `np.int32` to specify the precision. If you wish to review your current use, check the release note link for additional information.\n",
            "Deprecated in NumPy 1.20; for more details and guidance: https://numpy.org/devdocs/release/1.20.0-notes.html#deprecations\n"
          ]
        }
      ],
      "source": [
        "import numpy as np\n",
        "\n",
        "np.random.seed(25)\n",
        "\n",
        "# ■■(1)\n",
        "# -1～1までの小数値をランダムにを5つ生成しxに格納する\n",
        "x = (1 + 1) * np.random.rand(5) - 1\n",
        "\n",
        "# ステップ関数\n",
        "def step(x):\n",
        "\n",
        "    # ■■(2)\n",
        "    # xの値が0以下の場合は0、0より大きい場合は1とする結果をyに代入\n",
        "    y = np.where(x<= 0, 0, 1)\n",
        "\n",
        "    # np.int型にキャストして出力\n",
        "    return y.astype(np.int)\n",
        "\n",
        "# ステップ関数を呼び出す\n",
        "y = step(x)\n",
        "\n",
        "# ■■(3)\n",
        "# yの総和を sum_yに格納する\n",
        "sum_y = np.sum(y)\n",
        "\n",
        "print('ステップ関数に入力したデータ：', x)\n",
        "print('ステップ関数からの出力データ：', y)\n",
        "print('出力データの総和：', sum_y)"
      ]
    },
    {
      "cell_type": "markdown",
      "metadata": {
        "id": "BgIbDFmOnTWo"
      },
      "source": [
        "実行例：\n",
        "\n",
        "![1-2.PNG](data:image/png;base64,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)"
      ]
    }
  ],
  "metadata": {
    "colab": {
      "collapsed_sections": [],
      "name": "deeplearning_exam_2_stu.ipynb",
      "provenance": []
    },
    "kernelspec": {
      "display_name": "Python 3",
      "name": "python3"
    },
    "language_info": {
      "name": "python"
    }
  },
  "nbformat": 4,
  "nbformat_minor": 0
}